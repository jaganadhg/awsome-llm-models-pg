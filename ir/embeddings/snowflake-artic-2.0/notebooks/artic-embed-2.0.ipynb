{
 "cells": [
  {
   "cell_type": "markdown",
   "metadata": {},
   "source": [
    "### Snowflake Artic Embed 2.0 Experiments"
   ]
  },
  {
   "cell_type": "code",
   "execution_count": 1,
   "metadata": {},
   "outputs": [],
   "source": [
    "import warnings\n",
    "\n",
    "warnings.filterwarnings(\"ignore\")"
   ]
  },
  {
   "cell_type": "code",
   "execution_count": 2,
   "metadata": {},
   "outputs": [],
   "source": [
    "from typing import List, Dict, Any, Tuple\n",
    "import torch\n",
    "from sentence_transformers import SentenceTransformer"
   ]
  },
  {
   "cell_type": "code",
   "execution_count": 3,
   "metadata": {},
   "outputs": [],
   "source": [
    "device = \"cuda\" if torch.cuda.is_available() else \"cpu\""
   ]
  },
  {
   "cell_type": "code",
   "execution_count": 4,
   "metadata": {},
   "outputs": [],
   "source": [
    "def embed_query_docs(docs: List[str], model: SentenceTransformer, is_query: bool = False) -> List[List[float]]:\n",
    "    \"\"\"\n",
    "    Embeds a list of documents using a SentenceTransformer model\n",
    "    Args:\n",
    "    docs: List of documents to embed\n",
    "    model: SentenceTransformer model to use\n",
    "    is_query: If True, the input is a query, otherwise it is a document\n",
    "    Returns:\n",
    "    Tuple of a list of document IDs and a list of embeddings\n",
    "    \"\"\"\n",
    "    prompt_name = \"query\"\n",
    "    if is_query:\n",
    "        embeddings = model.encode(docs, prompt_name=prompt_name)\n",
    "    else:\n",
    "        embeddings = model.encode(docs)\n",
    "    return embeddings"
   ]
  },
  {
   "cell_type": "code",
   "execution_count": 5,
   "metadata": {},
   "outputs": [],
   "source": [
    "def find_similarity(\n",
    "    query_embeddings: List[float], document_embeddings: List[List[float]],\n",
    "    model: SentenceTransformer\n",
    ") -> List[float]:\n",
    "    \"\"\"\n",
    "    Finds the cosine similarity between a query and a list of documents\n",
    "    Args:\n",
    "    query: List of embeddings for the query\n",
    "    docs: List of embeddings for the documents\n",
    "    Returns:\n",
    "    List of cosine similarities\n",
    "    \"\"\"\n",
    "    return model.similarity(query_embeddings, document_embeddings)"
   ]
  },
  {
   "cell_type": "code",
   "execution_count": 6,
   "metadata": {},
   "outputs": [],
   "source": [
    "model_name = \"Snowflake/snowflake-arctic-embed-xs\"\n",
    "model = SentenceTransformer(model_name, device=device, trust_remote_code=True)"
   ]
  },
  {
   "cell_type": "markdown",
   "metadata": {},
   "source": [
    "##### Note\n",
    "The documentes for test are generated using Google Gemini.\n",
    "Prompt: Prepare one English query and two Englosh and French documents set for IR evaluation."
   ]
  },
  {
   "cell_type": "code",
   "execution_count": 7,
   "metadata": {},
   "outputs": [
    {
     "name": "stdout",
     "output_type": "stream",
     "text": [
      "Query: ['What are the benefits of using renewable energy sources?']\n",
      "\n",
      "French Documents and Similarities:\n",
      "Document 1: Les énergies renouvelables offrent de nombreux avantages, notamment la réduction des émissions de gaz à effet de serre et la diminution de la dépendance aux combustibles fossiles.\n",
      "Similarity Score: tensor([0.5670, 0.5841, 0.5591])\n",
      "\n",
      "English Documents and Similarities:\n",
      "Document 1: Renewable energy sources offer numerous benefits, including reduced greenhouse gas emissions and decreased reliance on fossil fuels.\n",
      "Similarity Score: tensor([0.8008, 0.7642, 0.6709])\n"
     ]
    }
   ],
   "source": [
    "query = [\"What are the benefits of using renewable energy sources?\"]\n",
    "\n",
    "french_docs = [\n",
    "    \"Les énergies renouvelables offrent de nombreux avantages, notamment la réduction des émissions de gaz à effet de serre et la diminution de la dépendance aux combustibles fossiles.\",\n",
    "    \"L'utilisation de sources d'énergie renouvelables contribue à la préservation de l'environnement et à la lutte contre le changement climatique.\",\n",
    "    \"Investir dans les énergies renouvelables est un choix judicieux pour l'avenir de la planète.\",\n",
    "]\n",
    "\n",
    "# English Documents\n",
    "english_docs = [\n",
    "    \"Renewable energy sources offer numerous benefits, including reduced greenhouse gas emissions and decreased reliance on fossil fuels.\",\n",
    "    \"Using renewable energy sources helps protect the environment and combat climate change.\",\n",
    "    \"Investing in renewable energy is a smart choice for the future of the planet.\",\n",
    "]\n",
    "\n",
    "\n",
    "# Embed query and documents\n",
    "query_embedding = embed_query_docs(query, model, is_query=True)\n",
    "french_doc_embeddings = embed_query_docs(french_docs, model)\n",
    "english_doc_embeddings = embed_query_docs(english_docs, model)\n",
    "\n",
    "\n",
    "# Calculate similarities\n",
    "french_similarities = find_similarity(query_embedding, french_doc_embeddings, model)\n",
    "english_similarities = find_similarity(query_embedding, english_doc_embeddings, model)\n",
    "\n",
    "# Example output\n",
    "print(\"Query:\", query)\n",
    "print(\"\\nFrench Documents and Similarities:\")\n",
    "for idx, sim in enumerate(french_similarities):\n",
    "    print(f\"Document {idx+1}: {french_docs[idx]}\")\n",
    "    print(f\"Similarity Score: {sim}\")\n",
    "\n",
    "print(\"\\nEnglish Documents and Similarities:\")\n",
    "for idx, sim in enumerate(english_similarities):\n",
    "    print(f\"Document {idx+1}: {english_docs[idx]}\")\n",
    "    print(f\"Similarity Score: {sim}\")"
   ]
  },
  {
   "cell_type": "markdown",
   "metadata": {},
   "source": [
    "#### TODO\n",
    "Try using `scores = query_embeddings @ document_embeddings.T`"
   ]
  },
  {
   "cell_type": "markdown",
   "metadata": {},
   "source": []
  }
 ],
 "metadata": {
  "kernelspec": {
   "display_name": ".venv",
   "language": "python",
   "name": "python3"
  },
  "language_info": {
   "codemirror_mode": {
    "name": "ipython",
    "version": 3
   },
   "file_extension": ".py",
   "mimetype": "text/x-python",
   "name": "python",
   "nbconvert_exporter": "python",
   "pygments_lexer": "ipython3",
   "version": "3.11.9"
  }
 },
 "nbformat": 4,
 "nbformat_minor": 2
}
